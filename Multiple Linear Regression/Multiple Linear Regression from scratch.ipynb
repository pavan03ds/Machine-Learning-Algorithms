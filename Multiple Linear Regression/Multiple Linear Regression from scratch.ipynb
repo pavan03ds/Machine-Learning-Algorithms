{
 "cells": [
  {
   "cell_type": "markdown",
   "id": "0cf8ec52-64fc-4944-8ff1-e296de5493dc",
   "metadata": {},
   "source": [
    "# Creating Multiple Linear Regression model from scratch"
   ]
  },
  {
   "cell_type": "code",
   "execution_count": 82,
   "id": "ceed103c-bdc0-40f5-b62e-89020ca7caf6",
   "metadata": {},
   "outputs": [],
   "source": [
    "class MyLR:\n",
    "    \n",
    "    def __init__(self):\n",
    "        \n",
    "        self.coef_ = None\n",
    "        self.intercept_ = None\n",
    "    \n",
    "    def fit(self, X_train, y_train):\n",
    "        \n",
    "        X_train = np.insert(X_train, 0, 1, axis=1)\n",
    "        \n",
    "        #calculate coefficients\n",
    "        betas = np.linalg.inv(np.dot(X_train.T, X_train)).dot(X_train.T).dot(y_train)   \n",
    "        #(inverse of dot product of  X transpose and X ) . (inverse of X_train) . (y_train)\n",
    "       \n",
    "        \n",
    "        self.coef_ = betas[1:] #beta 1 to beta n\n",
    "        self.intercept_ = betas[0] #beta 0\n",
    "        \n",
    "        print(\"Linear Regression\")\n",
    "        \n",
    "    def predict(self, X_test):\n",
    "        \n",
    "        y_pred = np.dot(X_test, self.coef_) + self.intercept_  \n",
    "        #y_pred = beta0 + beat1 . x1 + beat2 . x2 +.....+ betan . xn \n",
    "         \n",
    "        return y_pred"
   ]
  },
  {
   "cell_type": "code",
   "execution_count": 83,
   "id": "1d0c0b3d-3b6e-4c8e-9797-dc667927a35e",
   "metadata": {},
   "outputs": [],
   "source": [
    "import pandas as pd\n",
    "import numpy as np\n",
    "from sklearn.datasets import load_diabetes"
   ]
  },
  {
   "cell_type": "code",
   "execution_count": 84,
   "id": "0102bbeb-b99f-4c7f-9b92-a62598b8b905",
   "metadata": {},
   "outputs": [],
   "source": [
    "X, y = load_diabetes(return_X_y=True)"
   ]
  },
  {
   "cell_type": "code",
   "execution_count": 85,
   "id": "6a4feda9-3004-4959-915c-1e0a6535182d",
   "metadata": {},
   "outputs": [
    {
     "data": {
      "text/plain": [
       "array([[ 0.03807591,  0.05068012,  0.06169621, ..., -0.00259226,\n",
       "         0.01990842, -0.01764613],\n",
       "       [-0.00188202, -0.04464164, -0.05147406, ..., -0.03949338,\n",
       "        -0.06832974, -0.09220405],\n",
       "       [ 0.08529891,  0.05068012,  0.04445121, ..., -0.00259226,\n",
       "         0.00286377, -0.02593034],\n",
       "       ...,\n",
       "       [ 0.04170844,  0.05068012, -0.01590626, ..., -0.01107952,\n",
       "        -0.04687948,  0.01549073],\n",
       "       [-0.04547248, -0.04464164,  0.03906215, ...,  0.02655962,\n",
       "         0.04452837, -0.02593034],\n",
       "       [-0.04547248, -0.04464164, -0.0730303 , ..., -0.03949338,\n",
       "        -0.00421986,  0.00306441]])"
      ]
     },
     "execution_count": 85,
     "metadata": {},
     "output_type": "execute_result"
    }
   ],
   "source": [
    "X"
   ]
  },
  {
   "cell_type": "code",
   "execution_count": 86,
   "id": "e4522264-1ec4-4adb-9aeb-5375be9bb7c2",
   "metadata": {},
   "outputs": [
    {
     "data": {
      "text/plain": [
       "array([151.,  75., 141., 206., 135.,  97., 138.,  63., 110., 310., 101.,\n",
       "        69., 179., 185., 118., 171., 166., 144.,  97., 168.,  68.,  49.,\n",
       "        68., 245., 184., 202., 137.,  85., 131., 283., 129.,  59., 341.,\n",
       "        87.,  65., 102., 265., 276., 252.,  90., 100.,  55.,  61.,  92.,\n",
       "       259.,  53., 190., 142.,  75., 142., 155., 225.,  59., 104., 182.,\n",
       "       128.,  52.,  37., 170., 170.,  61., 144.,  52., 128.,  71., 163.,\n",
       "       150.,  97., 160., 178.,  48., 270., 202., 111.,  85.,  42., 170.,\n",
       "       200., 252., 113., 143.,  51.,  52., 210.,  65., 141.,  55., 134.,\n",
       "        42., 111.,  98., 164.,  48.,  96.,  90., 162., 150., 279.,  92.,\n",
       "        83., 128., 102., 302., 198.,  95.,  53., 134., 144., 232.,  81.,\n",
       "       104.,  59., 246., 297., 258., 229., 275., 281., 179., 200., 200.,\n",
       "       173., 180.,  84., 121., 161.,  99., 109., 115., 268., 274., 158.,\n",
       "       107.,  83., 103., 272.,  85., 280., 336., 281., 118., 317., 235.,\n",
       "        60., 174., 259., 178., 128.,  96., 126., 288.,  88., 292.,  71.,\n",
       "       197., 186.,  25.,  84.,  96., 195.,  53., 217., 172., 131., 214.,\n",
       "        59.,  70., 220., 268., 152.,  47.,  74., 295., 101., 151., 127.,\n",
       "       237., 225.,  81., 151., 107.,  64., 138., 185., 265., 101., 137.,\n",
       "       143., 141.,  79., 292., 178.,  91., 116.,  86., 122.,  72., 129.,\n",
       "       142.,  90., 158.,  39., 196., 222., 277.,  99., 196., 202., 155.,\n",
       "        77., 191.,  70.,  73.,  49.,  65., 263., 248., 296., 214., 185.,\n",
       "        78.,  93., 252., 150.,  77., 208.,  77., 108., 160.,  53., 220.,\n",
       "       154., 259.,  90., 246., 124.,  67.,  72., 257., 262., 275., 177.,\n",
       "        71.,  47., 187., 125.,  78.,  51., 258., 215., 303., 243.,  91.,\n",
       "       150., 310., 153., 346.,  63.,  89.,  50.,  39., 103., 308., 116.,\n",
       "       145.,  74.,  45., 115., 264.,  87., 202., 127., 182., 241.,  66.,\n",
       "        94., 283.,  64., 102., 200., 265.,  94., 230., 181., 156., 233.,\n",
       "        60., 219.,  80.,  68., 332., 248.,  84., 200.,  55.,  85.,  89.,\n",
       "        31., 129.,  83., 275.,  65., 198., 236., 253., 124.,  44., 172.,\n",
       "       114., 142., 109., 180., 144., 163., 147.,  97., 220., 190., 109.,\n",
       "       191., 122., 230., 242., 248., 249., 192., 131., 237.,  78., 135.,\n",
       "       244., 199., 270., 164.,  72.,  96., 306.,  91., 214.,  95., 216.,\n",
       "       263., 178., 113., 200., 139., 139.,  88., 148.,  88., 243.,  71.,\n",
       "        77., 109., 272.,  60.,  54., 221.,  90., 311., 281., 182., 321.,\n",
       "        58., 262., 206., 233., 242., 123., 167.,  63., 197.,  71., 168.,\n",
       "       140., 217., 121., 235., 245.,  40.,  52., 104., 132.,  88.,  69.,\n",
       "       219.,  72., 201., 110.,  51., 277.,  63., 118.,  69., 273., 258.,\n",
       "        43., 198., 242., 232., 175.,  93., 168., 275., 293., 281.,  72.,\n",
       "       140., 189., 181., 209., 136., 261., 113., 131., 174., 257.,  55.,\n",
       "        84.,  42., 146., 212., 233.,  91., 111., 152., 120.,  67., 310.,\n",
       "        94., 183.,  66., 173.,  72.,  49.,  64.,  48., 178., 104., 132.,\n",
       "       220.,  57.])"
      ]
     },
     "execution_count": 86,
     "metadata": {},
     "output_type": "execute_result"
    }
   ],
   "source": [
    "y"
   ]
  },
  {
   "cell_type": "code",
   "execution_count": 87,
   "id": "1f0e8a62-0174-427c-9f42-1892c3cbb5ec",
   "metadata": {},
   "outputs": [
    {
     "name": "stdout",
     "output_type": "stream",
     "text": [
      "(442, 10)\n",
      "(442,)\n"
     ]
    }
   ],
   "source": [
    "print(X.shape)\n",
    "print(y.shape)"
   ]
  },
  {
   "cell_type": "markdown",
   "id": "534655fb-4fbf-45f5-8980-e3b173487ad2",
   "metadata": {},
   "source": [
    "train_test_split"
   ]
  },
  {
   "cell_type": "code",
   "execution_count": 88,
   "id": "4a84a1bd-e394-4dba-b820-db8b9d03f8f3",
   "metadata": {},
   "outputs": [],
   "source": [
    "from sklearn.model_selection import train_test_split"
   ]
  },
  {
   "cell_type": "code",
   "execution_count": 89,
   "id": "d092f183-2f26-45c8-a2a5-6c56dd2852d9",
   "metadata": {},
   "outputs": [],
   "source": [
    "X_train, X_test, y_train, y_test = train_test_split(X, y, test_size=0.2, random_state=2)"
   ]
  },
  {
   "cell_type": "code",
   "execution_count": 90,
   "id": "e36cc28e-f6b0-4434-9beb-eb65a9c0f743",
   "metadata": {},
   "outputs": [
    {
     "name": "stdout",
     "output_type": "stream",
     "text": [
      "(353, 10)\n",
      "(89, 10)\n"
     ]
    }
   ],
   "source": [
    "print(X_train.shape)\n",
    "print(X_test.shape)"
   ]
  },
  {
   "cell_type": "markdown",
   "id": "c5ca2943-e419-4e40-b13f-60fb2dc8266a",
   "metadata": {},
   "source": [
    "model training"
   ]
  },
  {
   "cell_type": "code",
   "execution_count": 91,
   "id": "b01903e1-4051-4946-9a0b-5aaec681ec51",
   "metadata": {},
   "outputs": [],
   "source": [
    "lr = MyLR() #creating object"
   ]
  },
  {
   "cell_type": "code",
   "execution_count": 92,
   "id": "2b1bf611-4d8a-450a-9470-44768a5fc554",
   "metadata": {},
   "outputs": [
    {
     "name": "stdout",
     "output_type": "stream",
     "text": [
      "Linear Regression\n"
     ]
    }
   ],
   "source": [
    "lr.fit(X_train, y_train) #training"
   ]
  },
  {
   "cell_type": "code",
   "execution_count": 93,
   "id": "1fafead2-31af-4ad9-b16d-a6101ba8a39b",
   "metadata": {},
   "outputs": [
    {
     "data": {
      "text/plain": [
       "array([  -9.16088483, -205.46225988,  516.68462383,  340.62734108,\n",
       "       -895.54360867,  561.21453306,  153.88478595,  126.73431596,\n",
       "        861.12139955,   52.41982836])"
      ]
     },
     "execution_count": 93,
     "metadata": {},
     "output_type": "execute_result"
    }
   ],
   "source": [
    "lr.coef_ #coefficients"
   ]
  },
  {
   "cell_type": "code",
   "execution_count": 94,
   "id": "8a912810-daa0-4f51-8240-a635a429a134",
   "metadata": {},
   "outputs": [
    {
     "data": {
      "text/plain": [
       "151.8833452085463"
      ]
     },
     "execution_count": 94,
     "metadata": {},
     "output_type": "execute_result"
    }
   ],
   "source": [
    "lr.intercept_ #beta 0 intercept"
   ]
  },
  {
   "cell_type": "markdown",
   "id": "7746063c-f860-405a-95f4-c9ecab2c584c",
   "metadata": {},
   "source": [
    "predicting"
   ]
  },
  {
   "cell_type": "code",
   "execution_count": 95,
   "id": "4085032d-5686-43b5-9156-7dce6a31c791",
   "metadata": {},
   "outputs": [],
   "source": [
    "y_pred = lr.predict(X_test)"
   ]
  },
  {
   "cell_type": "code",
   "execution_count": 96,
   "id": "0fade634-42db-4b48-834e-b7ba0055c4de",
   "metadata": {},
   "outputs": [
    {
     "data": {
      "text/plain": [
       "array([154.1235067 , 204.81721599, 124.92988001, 106.09339576,\n",
       "       258.53035681, 256.32953702, 118.75258786, 119.52147402,\n",
       "       101.50717468, 190.54137158, 141.70360267, 172.51631204,\n",
       "       174.34089304, 134.81184017, 294.13950798,  94.11403289,\n",
       "       211.97052873, 156.49984762, 134.20709632, 119.62534726,\n",
       "       148.88045343, 165.00378118, 151.09977307, 176.03719872,\n",
       "       133.27651748, 221.29531227, 197.17482787,  96.15923158,\n",
       "        50.26531577, 230.48342249, 242.06266394, 114.1153262 ,\n",
       "        67.0785352 ,  94.53179042, 201.21593262, 167.05306138,\n",
       "       159.87838519, 192.78601513, 114.49291816, 233.4825497 ,\n",
       "       140.82309666, 121.06814332, 192.27431013, 191.13157307,\n",
       "       179.1698153 , 148.35140027, 163.47610288, 276.81203359,\n",
       "       100.17813072, 164.11265163, 255.81074398, 136.94979051,\n",
       "       152.37507828, 107.92662528, 194.21661635,  77.35015426,\n",
       "       118.50951725,  68.38527563, 154.29094022, 162.48905632,\n",
       "       168.36590928, 156.8764705 ,  97.13958436, 238.17121803,\n",
       "       145.46093854, 117.65678691, 168.88768692, 198.38893625,\n",
       "       118.24408332, 124.64831033, 223.17842907, 200.62634508,\n",
       "       129.54591274, 158.1553552 , 154.33593871, 114.47109854,\n",
       "        70.4524892 ,  76.39237963, 172.41319558,  80.56189628,\n",
       "        80.27309695,  89.46135201, 186.21265361, 275.46607679,\n",
       "       208.26816596, 143.7962915 , 291.28438095, 206.32601303,\n",
       "        94.22801028])"
      ]
     },
     "execution_count": 96,
     "metadata": {},
     "output_type": "execute_result"
    }
   ],
   "source": [
    "y_pred"
   ]
  },
  {
   "cell_type": "markdown",
   "id": "2fdbf603-19ca-4502-9d93-4950b61024dc",
   "metadata": {},
   "source": [
    "calculating r2_score"
   ]
  },
  {
   "cell_type": "code",
   "execution_count": 97,
   "id": "8f9e5931-6fb4-4611-b9fe-033b37535884",
   "metadata": {},
   "outputs": [],
   "source": [
    "from sklearn.metrics import r2_score"
   ]
  },
  {
   "cell_type": "code",
   "execution_count": 98,
   "id": "d90e29c4-abff-4fcf-b135-69c1b4c082c4",
   "metadata": {},
   "outputs": [
    {
     "data": {
      "text/plain": [
       "0.43993876600246484"
      ]
     },
     "execution_count": 98,
     "metadata": {},
     "output_type": "execute_result"
    }
   ],
   "source": [
    "r2_score(y_test, y_pred)"
   ]
  },
  {
   "cell_type": "markdown",
   "id": "1c5ea860-b901-45ea-b63c-060d99953a83",
   "metadata": {},
   "source": [
    "## testing above model for simple linear regression"
   ]
  },
  {
   "cell_type": "code",
   "execution_count": 99,
   "id": "f5219011-d32f-43fa-94f2-91aff9c05e1a",
   "metadata": {},
   "outputs": [],
   "source": [
    "df = pd.read_csv(r\"C:\\Users\\P PAVAN REDDY\\Downloads\\placement.csv\")"
   ]
  },
  {
   "cell_type": "code",
   "execution_count": 100,
   "id": "a6aa2377-8f8a-41db-9787-6318e411860d",
   "metadata": {},
   "outputs": [
    {
     "data": {
      "text/html": [
       "<div>\n",
       "<style scoped>\n",
       "    .dataframe tbody tr th:only-of-type {\n",
       "        vertical-align: middle;\n",
       "    }\n",
       "\n",
       "    .dataframe tbody tr th {\n",
       "        vertical-align: top;\n",
       "    }\n",
       "\n",
       "    .dataframe thead th {\n",
       "        text-align: right;\n",
       "    }\n",
       "</style>\n",
       "<table border=\"1\" class=\"dataframe\">\n",
       "  <thead>\n",
       "    <tr style=\"text-align: right;\">\n",
       "      <th></th>\n",
       "      <th>cgpa</th>\n",
       "      <th>package</th>\n",
       "    </tr>\n",
       "  </thead>\n",
       "  <tbody>\n",
       "    <tr>\n",
       "      <th>0</th>\n",
       "      <td>6.89</td>\n",
       "      <td>3.26</td>\n",
       "    </tr>\n",
       "    <tr>\n",
       "      <th>1</th>\n",
       "      <td>5.12</td>\n",
       "      <td>1.98</td>\n",
       "    </tr>\n",
       "    <tr>\n",
       "      <th>2</th>\n",
       "      <td>7.82</td>\n",
       "      <td>3.25</td>\n",
       "    </tr>\n",
       "    <tr>\n",
       "      <th>3</th>\n",
       "      <td>7.42</td>\n",
       "      <td>3.67</td>\n",
       "    </tr>\n",
       "    <tr>\n",
       "      <th>4</th>\n",
       "      <td>6.94</td>\n",
       "      <td>3.57</td>\n",
       "    </tr>\n",
       "  </tbody>\n",
       "</table>\n",
       "</div>"
      ],
      "text/plain": [
       "   cgpa  package\n",
       "0  6.89     3.26\n",
       "1  5.12     1.98\n",
       "2  7.82     3.25\n",
       "3  7.42     3.67\n",
       "4  6.94     3.57"
      ]
     },
     "execution_count": 100,
     "metadata": {},
     "output_type": "execute_result"
    }
   ],
   "source": [
    "df.head()"
   ]
  },
  {
   "cell_type": "code",
   "execution_count": 108,
   "id": "6d4471f2-d459-4883-8c96-66c1608c4006",
   "metadata": {},
   "outputs": [],
   "source": [
    "X=df.iloc[:,0:1].values\n",
    "y=df.iloc[:,-1].values"
   ]
  },
  {
   "cell_type": "code",
   "execution_count": 110,
   "id": "c8f07bf8-076d-44af-9d9f-bc0d2324138d",
   "metadata": {},
   "outputs": [
    {
     "data": {
      "text/plain": [
       "(200, 1)"
      ]
     },
     "execution_count": 110,
     "metadata": {},
     "output_type": "execute_result"
    }
   ],
   "source": [
    "X.shape"
   ]
  },
  {
   "cell_type": "code",
   "execution_count": 111,
   "id": "d8312309-bd63-43e6-bc17-e4eeb68aade7",
   "metadata": {},
   "outputs": [
    {
     "data": {
      "text/plain": [
       "(200,)"
      ]
     },
     "execution_count": 111,
     "metadata": {},
     "output_type": "execute_result"
    }
   ],
   "source": [
    "y.shape"
   ]
  },
  {
   "cell_type": "code",
   "execution_count": 112,
   "id": "6c6213b1-beb7-4a0c-9cc3-2377bde8423c",
   "metadata": {},
   "outputs": [],
   "source": [
    "#splitting the data for training and testing\n",
    "\n",
    "from sklearn.model_selection import train_test_split\n",
    "X_train, X_test, y_train, y_test = train_test_split(X, y, test_size=0.3, random_state=2)"
   ]
  },
  {
   "cell_type": "code",
   "execution_count": 113,
   "id": "c45d6910-f029-45fc-8e95-449633931f32",
   "metadata": {},
   "outputs": [
    {
     "name": "stdout",
     "output_type": "stream",
     "text": [
      "(140, 1)\n",
      "(60, 1)\n"
     ]
    }
   ],
   "source": [
    "print(X_train.shape)\n",
    "print(X_test.shape)"
   ]
  },
  {
   "cell_type": "code",
   "execution_count": 114,
   "id": "b7928b50-ddf5-4e9b-956f-314c288fc249",
   "metadata": {},
   "outputs": [],
   "source": [
    "#creating  object\n",
    "reg = MyLR()"
   ]
  },
  {
   "cell_type": "code",
   "execution_count": 115,
   "id": "ab2a52da-4e14-4965-8fe7-61ee989f7784",
   "metadata": {},
   "outputs": [
    {
     "name": "stdout",
     "output_type": "stream",
     "text": [
      "Linear Regression\n"
     ]
    }
   ],
   "source": [
    "#training\n",
    "reg.fit(X_train, y_train)"
   ]
  },
  {
   "cell_type": "code",
   "execution_count": 116,
   "id": "9d929bc2-d7f7-40ce-a954-005e9e0b9ea9",
   "metadata": {},
   "outputs": [
    {
     "data": {
      "text/plain": [
       "array([0.55574241])"
      ]
     },
     "execution_count": 116,
     "metadata": {},
     "output_type": "execute_result"
    }
   ],
   "source": [
    "reg.coef_"
   ]
  },
  {
   "cell_type": "code",
   "execution_count": 117,
   "id": "7e16dadf-bf6b-455e-945e-5b2af741fbbe",
   "metadata": {},
   "outputs": [
    {
     "data": {
      "text/plain": [
       "-0.8781178361811786"
      ]
     },
     "execution_count": 117,
     "metadata": {},
     "output_type": "execute_result"
    }
   ],
   "source": [
    "reg.intercept_"
   ]
  },
  {
   "cell_type": "code",
   "execution_count": 120,
   "id": "7ad62227-c21a-44e0-a211-e02c20b9579f",
   "metadata": {},
   "outputs": [
    {
     "data": {
      "text/plain": [
       "3.890152038667941"
      ]
     },
     "execution_count": 120,
     "metadata": {},
     "output_type": "execute_result"
    }
   ],
   "source": [
    "#predicting\n",
    "reg.predict(X_test[0])"
   ]
  },
  {
   "cell_type": "code",
   "execution_count": 121,
   "id": "8b81d554-2701-45f6-bb91-4f96b5964b95",
   "metadata": {},
   "outputs": [
    {
     "data": {
      "text/html": [
       "<div>\n",
       "<style scoped>\n",
       "    .dataframe tbody tr th:only-of-type {\n",
       "        vertical-align: middle;\n",
       "    }\n",
       "\n",
       "    .dataframe tbody tr th {\n",
       "        vertical-align: top;\n",
       "    }\n",
       "\n",
       "    .dataframe thead th {\n",
       "        text-align: right;\n",
       "    }\n",
       "</style>\n",
       "<table border=\"1\" class=\"dataframe\">\n",
       "  <thead>\n",
       "    <tr style=\"text-align: right;\">\n",
       "      <th></th>\n",
       "      <th>cgpa</th>\n",
       "      <th>package</th>\n",
       "    </tr>\n",
       "  </thead>\n",
       "  <tbody>\n",
       "    <tr>\n",
       "      <th>112</th>\n",
       "      <td>8.58</td>\n",
       "      <td>4.1</td>\n",
       "    </tr>\n",
       "  </tbody>\n",
       "</table>\n",
       "</div>"
      ],
      "text/plain": [
       "     cgpa  package\n",
       "112  8.58      4.1"
      ]
     },
     "execution_count": 121,
     "metadata": {},
     "output_type": "execute_result"
    }
   ],
   "source": [
    "#cross checking the predicted values with the actual values\n",
    "df[df['cgpa']==float(X_test[0])]"
   ]
  },
  {
   "cell_type": "code",
   "execution_count": 123,
   "id": "f95ce078-470b-41df-94b8-3e335eeb6a29",
   "metadata": {},
   "outputs": [
    {
     "data": {
      "text/plain": [
       "2.38964753259654"
      ]
     },
     "execution_count": 123,
     "metadata": {},
     "output_type": "execute_result"
    }
   ],
   "source": [
    "reg.predict(X_test[2])"
   ]
  },
  {
   "cell_type": "code",
   "execution_count": 124,
   "id": "1eab7a90-8e93-4e5f-8839-723ea453d7e8",
   "metadata": {},
   "outputs": [
    {
     "data": {
      "text/html": [
       "<div>\n",
       "<style scoped>\n",
       "    .dataframe tbody tr th:only-of-type {\n",
       "        vertical-align: middle;\n",
       "    }\n",
       "\n",
       "    .dataframe tbody tr th {\n",
       "        vertical-align: top;\n",
       "    }\n",
       "\n",
       "    .dataframe thead th {\n",
       "        text-align: right;\n",
       "    }\n",
       "</style>\n",
       "<table border=\"1\" class=\"dataframe\">\n",
       "  <thead>\n",
       "    <tr style=\"text-align: right;\">\n",
       "      <th></th>\n",
       "      <th>cgpa</th>\n",
       "      <th>package</th>\n",
       "    </tr>\n",
       "  </thead>\n",
       "  <tbody>\n",
       "    <tr>\n",
       "      <th>182</th>\n",
       "      <td>5.88</td>\n",
       "      <td>2.08</td>\n",
       "    </tr>\n",
       "  </tbody>\n",
       "</table>\n",
       "</div>"
      ],
      "text/plain": [
       "     cgpa  package\n",
       "182  5.88     2.08"
      ]
     },
     "execution_count": 124,
     "metadata": {},
     "output_type": "execute_result"
    }
   ],
   "source": [
    "df[df['cgpa']==float(X_test[2])]"
   ]
  }
 ],
 "metadata": {
  "kernelspec": {
   "display_name": "Python 3 (ipykernel)",
   "language": "python",
   "name": "python3"
  },
  "language_info": {
   "codemirror_mode": {
    "name": "ipython",
    "version": 3
   },
   "file_extension": ".py",
   "mimetype": "text/x-python",
   "name": "python",
   "nbconvert_exporter": "python",
   "pygments_lexer": "ipython3",
   "version": "3.9.13"
  }
 },
 "nbformat": 4,
 "nbformat_minor": 5
}
